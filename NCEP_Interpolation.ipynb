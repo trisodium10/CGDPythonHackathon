{
 "cells": [
  {
   "cell_type": "code",
   "execution_count": 3,
   "metadata": {},
   "outputs": [
    {
     "name": "stderr",
     "output_type": "stream",
     "text": [
      "/Users/mhayman/anaconda/lib/python3.5/importlib/_bootstrap.py:222: RuntimeWarning: numpy.dtype size changed, may indicate binary incompatibility. Expected 96, got 88\n",
      "  return f(*args, **kwds)\n",
      "/Users/mhayman/anaconda/lib/python3.5/importlib/_bootstrap.py:222: RuntimeWarning: numpy.dtype size changed, may indicate binary incompatibility. Expected 96, got 88\n",
      "  return f(*args, **kwds)\n"
     ]
    }
   ],
   "source": [
    "import numpy as np\n",
    "import matplotlib.pyplot as plt\n",
    "import xarray as xr\n",
    "\n",
    "import LidarProfileFunctions as lp\n",
    "import ExternalDataFunctions as ex\n",
    "import GVHSRLlib as gv\n",
    "\n",
    "import glob\n",
    "import datetime\n",
    "\n",
    "import cartopy.crs as ccrs\n",
    "\n",
    "%matplotlib inline"
   ]
  },
  {
   "cell_type": "code",
   "execution_count": 10,
   "metadata": {},
   "outputs": [],
   "source": [
    "gv_data_path = '/Users/mhayman/Documents/HSRL/GVHSRL/SOCRATES/SOCRATESrf09/'\n",
    "ncep_data_path = '/Users/mhayman/Documents/Python/lidar/external_data/'"
   ]
  },
  {
   "cell_type": "code",
   "execution_count": 11,
   "metadata": {},
   "outputs": [],
   "source": [
    "gv_data_files = sorted(glob.glob(gv_data_path+'SOCRATES*GVHSRL*.nc'))\n",
    "hsrl_ds = xr.open_dataset(gv_data_files[0], engine='netcdf4')"
   ]
  },
  {
   "cell_type": "code",
   "execution_count": 12,
   "metadata": {},
   "outputs": [],
   "source": [
    "lidar_pointing = xr.DataArray(data=hsrl_ds['lidar_pointing'].data, dims=['coordinate','time'], \n",
    "                    coords={'time': hsrl_ds['time'].data, 'coordinate':[0,1,2]},\n",
    "                    name='lidar_pointing_direction',\n",
    "                    attrs={'description': 'unit vector indicating the lidar\\'s pointing direction'})\n",
    "GGALT = xr.DataArray(data=hsrl_ds['GGALT'].data,dims=['time'],coords={'time':hsrl_ds['time'].data},\n",
    "                    name='aircraft_altitude',\n",
    "                    attrs={'units':'meters'})\n",
    "\n",
    "lidar_range = hsrl_ds['range']\n",
    "pixel_position_x = lidar_range*lidar_pointing.sel(coordinate=0)\n",
    "pixel_position_y = lidar_range*lidar_pointing.sel(coordinate=1)\n",
    "pixel_position_z = GGALT-lidar_range*lidar_pointing.sel(coordinate=2)"
   ]
  },
  {
   "cell_type": "code",
   "execution_count": 13,
   "metadata": {},
   "outputs": [],
   "source": [
    "ncep_file = glob.glob(ncep_data_path+'*air*2018.nc')\n",
    "ncep_ds_temp = xr.open_dataset(ncep_file[0], engine='netcdf4')\n",
    "ncep_air = ncep_ds_temp['air'].sel(lat=slice(-30,-80),lon=slice(120,170),\n",
    "                             time=slice(datetime.datetime(2018,1,1),datetime.datetime(2018,3,1)))"
   ]
  },
  {
   "cell_type": "code",
   "execution_count": 15,
   "metadata": {},
   "outputs": [],
   "source": [
    "ncep_file = glob.glob(ncep_data_path+'*hgt*2018.nc')\n",
    "ncep_ds_pres = xr.open_dataset(ncep_file[0], engine='netcdf4')\n",
    "ncep_hgt = ncep_ds_pres['hgt'].sel(lat=slice(-30,-80),lon=slice(120,170),\n",
    "                             time=slice(datetime.datetime(2018,1,1),datetime.datetime(2018,3,1)))"
   ]
  },
  {
   "cell_type": "code",
   "execution_count": null,
   "metadata": {},
   "outputs": [],
   "source": [
    "#air_interp = ncep_air.interp(time=hsrl_ds['time'].data, lat=hsrl_ds['GGLON'].data, lon=hsrl_ds['GGLON'].data)\n",
    "def interp_xarray(da,**kwargs):\n",
    "    # accepts a data array from xarray is the interpolation data set\n",
    "    # interpolates the field in da onto the grid provided in kwargs\n",
    "    \n",
    "    # find the bounding corners for the requested interpolation points\n",
    "    plist = [[]] # list of hypercube corners\n",
    "    iplist = [[]] # list of indices hypercube corners\n",
    "    element_name = []\n",
    "    for k in kwargs.keys():\n",
    "        element_name += [k]\n",
    "        # evaluate the differences between the axes points\n",
    "        eval_matrix = da[k].flatten()[np.newaxis,:]-kwargs[k].flatten()[:,np.newaxis]\n",
    "        \n",
    "        # find the upper bound - how to handle all nan rows? (edge cases)\n",
    "        pos_val = eval_matrix.copy()  # filter matrix to remove (nan) negative values\n",
    "        pos_val[np.nonzero(eval_matrix < 0)] = np.nan\n",
    "        pset[k]['iupper'] = np.nanargmin(pos_val,axis=0)\n",
    "        pset[k]['upper'] = da[k][pset[k]['iupper']]\n",
    "        #u_val+=[pset[k]['upper']]\n",
    "        \n",
    "        # find the lower bound\n",
    "        neg_val = eval_matrix.copy()  # filter matrix to remove (nan) positive values\n",
    "        neg_val[np.nonzero(eval_matrix > 0)] = np.nan\n",
    "        pset[k]['ilower'] = np.nanargmax(neg_val,axis=0)\n",
    "        pset[k]['lower'] = da[k][pset[k]['iupper']]\n",
    "        #l_val+=[pset[k]['lower']]\n",
    "        \n",
    "        # create all possible permuatations of the upper/lower bounds\n",
    "        # to identify the corner coordinates of the hyper cube\n",
    "        p_a = []\n",
    "        p_b = []\n",
    "        ip_a = []\n",
    "        ip_b = []\n",
    "        for ai in range(len(plist)):\n",
    "            p_a+=[plist[ai]+[pset[k]['upper']]]\n",
    "            p_b+=[plist[ai]+[pset[k]['lower']]]\n",
    "            plist = p_a+p_b\n",
    "            \n",
    "            ip_a+=[iplist[ai]+[pset[k]['iupper']]]\n",
    "            ip_b+=[iplist[ai]+[pset[k]['ilower']]]\n",
    "            iplist = ip_a+ip_b\n",
    "    \n",
    "    flist = []\n",
    "    dlist = []\n",
    "    for p in plist:\n",
    "        for ai,el in enumerate(element_name):\n",
    "            sel_dict[el] = p[ai]\n",
    "        flist+=[da.isel(**sel_dict)]\n",
    "        dlist+=np.nansum((p-x)**2)\n",
    "        \n",
    "    "
   ]
  },
  {
   "cell_type": "code",
   "execution_count": 37,
   "metadata": {},
   "outputs": [
    {
     "data": {
      "text/plain": [
       "[(array([0, 1, 2, 3]), array([10, 11, 12, 13])),\n",
       " (array([10, 11, 12, 13]), array([0, 1, 2, 3]))]"
      ]
     },
     "execution_count": 37,
     "metadata": {},
     "output_type": "execute_result"
    }
   ],
   "source": [
    "import itertools\n",
    "list(itertools.permutations([np.arange(4),np.arange(10,14)],2))"
   ]
  },
  {
   "cell_type": "code",
   "execution_count": 55,
   "metadata": {},
   "outputs": [
    {
     "name": "stdout",
     "output_type": "stream",
     "text": [
      "[10, 0]\n",
      "[10, 0]\n",
      "[10, 0, 10, 0]\n"
     ]
    },
    {
     "ename": "ValueError",
     "evalue": "too many values to unpack (expected 2)",
     "output_type": "error",
     "traceback": [
      "\u001b[0;31m---------------------------------------------------------------------------\u001b[0m",
      "\u001b[0;31mValueError\u001b[0m                                Traceback (most recent call last)",
      "\u001b[0;32m<ipython-input-55-de01e7bac0f4>\u001b[0m in \u001b[0;36m<module>\u001b[0;34m()\u001b[0m\n\u001b[1;32m      1\u001b[0m \u001b[0ml0\u001b[0m \u001b[0;34m=\u001b[0m \u001b[0;34m[\u001b[0m\u001b[0;34m[\u001b[0m\u001b[0;34m]\u001b[0m\u001b[0;34m]\u001b[0m\u001b[0;34m\u001b[0m\u001b[0m\n\u001b[1;32m      2\u001b[0m \u001b[0;32mfor\u001b[0m \u001b[0mai\u001b[0m \u001b[0;32min\u001b[0m \u001b[0mrange\u001b[0m\u001b[0;34m(\u001b[0m\u001b[0;36m3\u001b[0m\u001b[0;34m)\u001b[0m\u001b[0;34m:\u001b[0m\u001b[0;34m\u001b[0m\u001b[0m\n\u001b[0;32m----> 3\u001b[0;31m     \u001b[0ml1\u001b[0m\u001b[0;34m,\u001b[0m\u001b[0ml2\u001b[0m\u001b[0;34m=\u001b[0m\u001b[0ml0\u001b[0m\u001b[0;34m*\u001b[0m\u001b[0;36m2\u001b[0m\u001b[0;34m\u001b[0m\u001b[0m\n\u001b[0m\u001b[1;32m      4\u001b[0m     \u001b[0ma1\u001b[0m \u001b[0;34m=\u001b[0m \u001b[0mai\u001b[0m\u001b[0;34m+\u001b[0m\u001b[0;36m10\u001b[0m\u001b[0;34m\u001b[0m\u001b[0m\n\u001b[1;32m      5\u001b[0m     \u001b[0ma2\u001b[0m \u001b[0;34m=\u001b[0m \u001b[0mai\u001b[0m\u001b[0;34m\u001b[0m\u001b[0m\n",
      "\u001b[0;31mValueError\u001b[0m: too many values to unpack (expected 2)"
     ]
    }
   ],
   "source": [
    "l0 = [[]]\n",
    "for ai in range(3):\n",
    "    l1,l2=l0*2\n",
    "    a1 = ai+10\n",
    "    a2 = ai\n",
    "    l1+=[a1]\n",
    "    l2+=[a2]\n",
    "    l0=l1+l2\n",
    "    print(l1)\n",
    "    print(l2)\n",
    "    print(l0)"
   ]
  },
  {
   "cell_type": "code",
   "execution_count": 75,
   "metadata": {},
   "outputs": [
    {
     "name": "stdout",
     "output_type": "stream",
     "text": [
      "[[0]]\n",
      "[[4]]\n",
      "[[0], [4]]\n",
      "[[0, 1], [4, 1]]\n",
      "[[0, 5], [4, 5]]\n",
      "[[0, 1], [4, 1], [0, 5], [4, 5]]\n",
      "[[0, 1, 2], [4, 1, 2], [0, 5, 2], [4, 5, 2]]\n",
      "[[0, 1, 6], [4, 1, 6], [0, 5, 6], [4, 5, 6]]\n",
      "[[0, 1, 2], [4, 1, 2], [0, 5, 2], [4, 5, 2], [0, 1, 6], [4, 1, 6], [0, 5, 6], [4, 5, 6]]\n"
     ]
    }
   ],
   "source": [
    "n0 = [[]]\n",
    "xu = np.arange(3)\n",
    "xl = np.arange(3)+4\n",
    "for ai in range(xu.size):\n",
    "    #a = list(n0)\n",
    "    #b = list(n0)\n",
    "    a = []\n",
    "    b = []\n",
    "    for el in n0:\n",
    "        a+=[el+[xu[ai]]]\n",
    "        b+=[el+[xl[ai]]]\n",
    "        \n",
    "    print(a)\n",
    "    print(b)\n",
    "    n0 = a+b\n",
    "    print(n0)"
   ]
  },
  {
   "cell_type": "code",
   "execution_count": 60,
   "metadata": {},
   "outputs": [],
   "source": []
  },
  {
   "cell_type": "code",
   "execution_count": 61,
   "metadata": {},
   "outputs": [
    {
     "data": {
      "text/plain": [
       "[5]"
      ]
     },
     "execution_count": 61,
     "metadata": {},
     "output_type": "execute_result"
    }
   ],
   "source": []
  },
  {
   "cell_type": "code",
   "execution_count": null,
   "metadata": {},
   "outputs": [],
   "source": []
  }
 ],
 "metadata": {
  "anaconda-cloud": {},
  "kernelspec": {
   "display_name": "Python [anaconda]",
   "language": "python",
   "name": "Python [anaconda]"
  },
  "language_info": {
   "codemirror_mode": {
    "name": "ipython",
    "version": 3
   },
   "file_extension": ".py",
   "mimetype": "text/x-python",
   "name": "python",
   "nbconvert_exporter": "python",
   "pygments_lexer": "ipython3",
   "version": "3.5.2"
  }
 },
 "nbformat": 4,
 "nbformat_minor": 2
}
